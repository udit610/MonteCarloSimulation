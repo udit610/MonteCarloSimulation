{
 "cells": [
  {
   "cell_type": "markdown",
   "metadata": {},
   "source": [
    "Step 1: Install yfinance"
   ]
  },
  {
   "cell_type": "code",
   "execution_count": null,
   "metadata": {},
   "outputs": [],
   "source": [
    "!pip install yfinance"
   ]
  },
  {
   "cell_type": "markdown",
   "metadata": {},
   "source": [
    "Step 2: Import Libraries"
   ]
  },
  {
   "cell_type": "code",
   "execution_count": null,
   "metadata": {},
   "outputs": [],
   "source": [
    "import yfinance as yf\n",
    "import numpy as np\n",
    "import pandas as pd\n",
    "import matplotlib.pyplot as plt\n",
    "plt.style.use('fivethirtyeight')"
   ]
  },
  {
   "cell_type": "markdown",
   "metadata": {},
   "source": [
    "Step 3: Get Stock Data"
   ]
  },
  {
   "cell_type": "code",
   "execution_count": null,
   "metadata": {},
   "outputs": [],
   "source": [
    "ticker = \"RELIANCE.NS\"  # Change as needed\n",
    "start_date = \"2020-01-01\" # Adjust as needed\n",
    "end_date = \"2025-03-12\"   # Adjust as needed\n",
    "\n",
    "data = yf.download(ticker, start=start_date, end=end_date)\n",
    "# print(data.head()) # Uncomment to see data"
   ]
  },
  {
   "cell_type": "markdown",
   "metadata": {},
   "source": [
    "Step 4: Calculate Returns and Volatility"
   ]
  },
  {
   "cell_type": "code",
   "execution_count": null,
   "metadata": {},
   "outputs": [],
   "source": [
    "data['Daily_Return'] = data['Close'].pct_change()\n",
    "data = data.dropna()\n",
    "\n",
    "volatility = data['Daily_Return'].std() * np.sqrt(252)\n",
    "drift = data['Daily_Return'].mean() * 252\n",
    "\n",
    "print(f\"Annual Volatility: {volatility:.4f}\")\n",
    "print(f\"Annual Drift: {drift:.4f}\")"
   ]
  },
  {
   "cell_type": "markdown",
   "metadata": {},
   "source": [
    "Step 5: Monte Carlo Simulation Function"
   ]
  },
  {
   "cell_type": "code",
   "execution_count": null,
   "metadata": {},
   "outputs": [],
   "source": [
    "def monte_carlo_simulation(last_price, days, num_simulations, drift, volatility):\n",
    "    dt = 1/252\n",
    "    price_paths = np.zeros((num_simulations, days + 1))\n",
    "    price_paths[:, 0] = last_price\n",
    "\n",
    "    for i in range(num_simulations):\n",
    "        for j in range(1, days + 1):\n",
    "            Z = np.random.normal(0, 1)\n",
    "            price_paths[i, j] = price_paths[i, j-1] * np.exp((drift - 0.5 * volatility**2) * dt + volatility * np.sqrt(dt) * Z)\n",
    "\n",
    "    return price_paths"
   ]
  },
  {
   "cell_type": "markdown",
   "metadata": {},
   "source": [
    "Step 6: Run the Simulation"
   ]
  },
  {
   "cell_type": "code",
   "execution_count": null,
   "metadata": {},
   "outputs": [],
   "source": [
    "last_known_price = data['Close'].iloc[-1]\n",
    "prediction_days = 30\n",
    "num_simulations = 1000\n",
    "\n",
    "simulated_paths = monte_carlo_simulation(last_known_price, prediction_days, num_simulations, drift, volatility)"
   ]
  },
  {
   "cell_type": "markdown",
   "metadata": {},
   "source": [
    "Step 7: Visualize Results"
   ]
  },
  {
   "cell_type": "code",
   "execution_count": null,
   "metadata": {},
   "outputs": [],
   "source": [
    "plt.figure(figsize=(12, 6))\n",
    "for i in range(num_simulations):\n",
    "    plt.plot(simulated_paths[i, :], linewidth=0.5, alpha=0.3)\n",
    "\n",
    "plt.title(f'Monte Carlo Simulation for {ticker} - {num_simulations} Paths')\n",
    "plt.xlabel('Days')\n",
    "plt.ylabel('Stock Price')\n",
    "plt.grid(True)\n",
    "plt.show()\n",
    "\n",
    "ending_prices = simulated_paths[:, -1]\n",
    "plt.figure(figsize=(8, 5))\n",
    "plt.hist(ending_prices, bins=50, density=True, alpha=0.6, color='skyblue')\n",
    "plt.title(f'Distribution of Predicted Prices after {prediction_days} Days')\n",
    "plt.xlabel('Stock Price')\n",
    "plt.ylabel('Frequency')\n",
    "plt.grid(axis='y', alpha=0.75)\n",
    "plt.show()"
   ]
  },
  {
   "cell_type": "markdown",
   "metadata": {},
   "source": [
    "Step 8: Analyze Results"
   ]
  },
  {
   "cell_type": "code",
   "execution_count": null,
   "metadata": {},
   "outputs": [],
   "source": [
    "average_predicted_price = np.mean(ending_prices)\n",
    "print(f\"Average Predicted Price after {prediction_days} days: {average_predicted_price:.2f}\")\n",
    "\n",
    "confidence_interval = np.percentile(ending_prices, [2.5, 97.5])\n",
    "print(f\"95% Confidence Interval for Predicted Price: {confidence_interval}\")"
   ]
  }
 ],
 "metadata": {
  "kernelspec": {
   "display_name": "Python 3",
   "language": "python",
   "name": "python3"
  },
  "language_info": {
   "codemirror_mode": {
    "name": "ipython",
    "version": 3
   },
   "file_extension": ".py",
   "mimetype": "text/x-python",
   "name": "python",
   "nbconvert_exporter": "python",
   "pygments_lexer": "ipython3",
   "version": "3.12.4"
  }
 },
 "nbformat": 4,
 "nbformat_minor": 2
}
