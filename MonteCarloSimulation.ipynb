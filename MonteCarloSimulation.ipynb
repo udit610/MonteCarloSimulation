{
 "cells": [
  {
   "cell_type": "code",
   "execution_count": null,
   "metadata": {
    "vscode": {
     "languageId": "plaintext"
    }
   },
   "outputs": [],
   "source": [
    "!pip install yfinance"
   ]
  },
  {
   "cell_type": "code",
   "execution_count": null,
   "metadata": {
    "vscode": {
     "languageId": "plaintext"
    }
   },
   "outputs": [],
   "source": [
    "import yfinance as yf\n",
    "import numpy as np\n",
    "import pandas as pd\n",
    "import matplotlib.pyplot as plt\n",
    "plt.style.use('fivethirtyeight') # Optional: for a nicer plot style"
   ]
  },
  {
   "cell_type": "markdown",
   "metadata": {},
   "source": [
    "Step 3: Get Stock Data"
   ]
  },
  {
   "cell_type": "code",
   "execution_count": null,
   "metadata": {
    "vscode": {
     "languageId": "plaintext"
    }
   },
   "outputs": [],
   "source": [
    "# Define stock ticker and date range\n",
    "ticker = \"RELIANCE.NS\"  # Reliance Industries NSE\n",
    "start_date = \"2020-01-01\" # Adjust as needed for historical data\n",
    "end_date = \"2023-12-31\"   # Adjust as needed\n",
    "\n",
    "# Download historical data using yfinance\n",
    "data = yf.download(ticker, start=start_date, end=end_date)\n",
    "\n",
    "# Display the first few rows of the data\n",
    "print(data.head())"
   ]
  },
  {
   "cell_type": "markdown",
   "metadata": {},
   "source": [
    "Step 4: Calculate Returns and Volatility"
   ]
  },
  {
   "cell_type": "code",
   "execution_count": null,
   "metadata": {
    "vscode": {
     "languageId": "plaintext"
    }
   },
   "outputs": [],
   "source": [
    "# Calculate daily percentage returns\n",
    "data['Daily_Return'] = data['Adj Close'].pct_change()\n",
    "data = data.dropna() # Remove the first row with NaN (due to pct_change)\n",
    "\n",
    "# Calculate volatility (standard deviation of daily returns)\n",
    "volatility = data['Daily_Return'].std() * np.sqrt(252) # Annualize volatility (assuming 252 trading days in a year)\n",
    "\n",
    "# Calculate drift (average daily return)\n",
    "drift = data['Daily_Return'].mean() * 252 # Annualize drift\n",
    "\n",
    "print(f\"Annual Volatility: {volatility:.4f}\")\n",
    "print(f\"Annual Drift: {drift:.4f}\")"
   ]
  },
  {
   "cell_type": "markdown",
   "metadata": {},
   "source": [
    "Step 5: Monte Carlo Simulation Function"
   ]
  },
  {
   "cell_type": "code",
   "execution_count": null,
   "metadata": {
    "vscode": {
     "languageId": "plaintext"
    }
   },
   "outputs": [],
   "source": [
    "def monte_carlo_simulation(last_price, days, num_simulations, drift, volatility):\n",
    "    \"\"\"\n",
    "    Performs a Monte Carlo simulation for stock price prediction using GBM.\n",
    "\n",
    "    Args:\n",
    "        last_price (float): The last known stock price.\n",
    "        days (int): Number of days to predict.\n",
    "        num_simulations (int): Number of simulation paths to generate.\n",
    "        drift (float): Annualized drift (average return).\n",
    "        volatility (float): Annualized volatility.\n",
    "\n",
    "    Returns:\n",
    "        numpy.ndarray: A 2D array of simulated price paths.\n",
    "                       Shape: (num_simulations, days + 1) - includes initial price.\n",
    "    \"\"\"\n",
    "    dt = 1/252  # Time step (daily)\n",
    "    price_paths = np.zeros((num_simulations, days + 1))\n",
    "    price_paths[:, 0] = last_price # Set initial price for all simulations\n",
    "\n",
    "    for i in range(num_simulations):\n",
    "        for j in range(1, days + 1):\n",
    "            # Generate random shock (Z ~ N(0, 1))\n",
    "            Z = np.random.normal(0, 1)\n",
    "            # GBM formula\n",
    "            price_paths[i, j] = price_paths[i, j-1] * np.exp((drift - 0.5 * volatility**2) * dt + volatility * np.sqrt(dt) * Z)\n",
    "\n",
    "    return price_paths"
   ]
  },
  {
   "cell_type": "markdown",
   "metadata": {},
   "source": [
    "Step 6: Run the Simulation"
   ]
  },
  {
   "cell_type": "code",
   "execution_count": null,
   "metadata": {
    "vscode": {
     "languageId": "plaintext"
    }
   },
   "outputs": [],
   "source": [
    "# Simulation parameters\n",
    "last_known_price = data['Adj Close'].iloc[-1] # Last available adjusted close price\n",
    "prediction_days = 30 # Number of days to predict\n",
    "num_simulations = 1000 # Number of simulation paths\n",
    "\n",
    "# Run the Monte Carlo simulation\n",
    "simulated_paths = monte_carlo_simulation(last_known_price, prediction_days, num_simulations, drift, volatility)"
   ]
  },
  {
   "cell_type": "code",
   "execution_count": null,
   "metadata": {
    "vscode": {
     "languageId": "plaintext"
    }
   },
   "outputs": [],
   "source": [
    "Step 7: Visualize Results"
   ]
  },
  {
   "cell_type": "code",
   "execution_count": null,
   "metadata": {
    "vscode": {
     "languageId": "plaintext"
    }
   },
   "outputs": [],
   "source": [
    "# Plotting the simulated paths\n",
    "plt.figure(figsize=(12, 6))\n",
    "for i in range(num_simulations):\n",
    "    plt.plot(simulated_paths[i, :], linewidth=0.5, alpha=0.3) # Plot each path with transparency\n",
    "\n",
    "plt.title(f'Monte Carlo Simulation for {ticker} - {num_simulations} Paths')\n",
    "plt.xlabel('Days')\n",
    "plt.ylabel('Stock Price')\n",
    "plt.grid(True)\n",
    "plt.show()\n",
    "\n",
    "# Histogram of ending prices (price on the last predicted day)\n",
    "ending_prices = simulated_paths[:, -1]\n",
    "plt.figure(figsize=(8, 5))\n",
    "plt.hist(ending_prices, bins=50, density=True, alpha=0.6, color='skyblue')\n",
    "plt.title(f'Distribution of Predicted Prices after {prediction_days} Days')\n",
    "plt.xlabel('Stock Price')\n",
    "plt.ylabel('Frequency')\n",
    "plt.grid(axis='y', alpha=0.75)\n",
    "plt.show()"
   ]
  },
  {
   "cell_type": "markdown",
   "metadata": {},
   "source": [
    "Step 8: Analyze Results"
   ]
  },
  {
   "cell_type": "code",
   "execution_count": null,
   "metadata": {
    "vscode": {
     "languageId": "plaintext"
    }
   },
   "outputs": [],
   "source": [
    "# Calculate average predicted price\n",
    "average_predicted_price = np.mean(ending_prices)\n",
    "print(f\"Average Predicted Price after {prediction_days} days: {average_predicted_price:.2f}\")\n",
    "\n",
    "# Calculate confidence interval (e.g., 95% confidence interval)\n",
    "confidence_interval = np.percentile(ending_prices, [2.5, 97.5]) # 2.5th and 97.5th percentiles for 95% CI\n",
    "print(f\"95% Confidence Interval for Predicted Price: {confidence_interval}\")"
   ]
  }
 ],
 "metadata": {
  "language_info": {
   "name": "python"
  }
 },
 "nbformat": 4,
 "nbformat_minor": 2
}
